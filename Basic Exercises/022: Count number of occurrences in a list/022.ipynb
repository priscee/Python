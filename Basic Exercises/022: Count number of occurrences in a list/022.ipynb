{
 "cells": [
  {
   "cell_type": "markdown",
   "metadata": {},
   "source": [
    "Write a  Python program to count the number 4 in a given list."
   ]
  },
  {
   "cell_type": "code",
   "execution_count": null,
   "metadata": {},
   "outputs": [],
   "source": [
    "def list_count(nums):\n",
    "\n",
    "    count = 0\n",
    "\n",
    "    for num in nums:\n",
    "        if num == 4:\n",
    "            count = count + 1\n",
    "    return count\n",
    "\n",
    "print(list_count([1,2,4,6,8,4]))\n",
    "print(list_count([1,3,6,7,8,9,]))"
   ]
  }
 ],
 "metadata": {
  "kernelspec": {
   "display_name": "Python 3",
   "language": "python",
   "name": "python3"
  },
  "language_info": {
   "codemirror_mode": {
    "name": "ipython",
    "version": 3
   },
   "file_extension": ".py",
   "mimetype": "text/x-python",
   "name": "python",
   "nbconvert_exporter": "python",
   "pygments_lexer": "ipython3",
   "version": "3.9.6"
  }
 },
 "nbformat": 4,
 "nbformat_minor": 2
}
