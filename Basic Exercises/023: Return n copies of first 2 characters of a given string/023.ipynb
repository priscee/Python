{
 "cells": [
  {
   "cell_type": "markdown",
   "metadata": {},
   "source": [
    "Write a Python program to get n (non-negative integer) copies of the first 2 characters of a given string. Return n copies of the whole string if the length is less than 2."
   ]
  },
  {
   "cell_type": "code",
   "execution_count": null,
   "metadata": {},
   "outputs": [],
   "source": [
    "text = str(input(\"Your text: \"))\n",
    "n = int(input(\"Number of copies: \"))\n",
    "\n",
    "def substring(text, n):\n",
    "    twolen = 2\n",
    "    # value of substr len to 2\n",
    "\n",
    "    if twolen > len(text):\n",
    "        twolen = len(text)\n",
    "        # if twolen is greater than len of input text, et it to len of text, to avoid going out of bounds\n",
    "\n",
    "    substr = text[:twolen]\n",
    "    #extract substr of len twolen from beginning of text\n",
    "\n",
    "    result = \"\"\n",
    "\n",
    "    for i in range(n):\n",
    "\n",
    "        result = result + substr\n",
    "    \n",
    "    return result\n",
    "\n",
    "print(substring(text, n))"
   ]
  }
 ],
 "metadata": {
  "kernelspec": {
   "display_name": "Python 3",
   "language": "python",
   "name": "python3"
  },
  "language_info": {
   "codemirror_mode": {
    "name": "ipython",
    "version": 3
   },
   "file_extension": ".py",
   "mimetype": "text/x-python",
   "name": "python",
   "nbconvert_exporter": "python",
   "pygments_lexer": "ipython3",
   "version": "3.9.6"
  }
 },
 "nbformat": 4,
 "nbformat_minor": 2
}
