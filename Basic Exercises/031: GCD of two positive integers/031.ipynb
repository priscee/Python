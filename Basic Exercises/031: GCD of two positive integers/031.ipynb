{
 "cells": [
  {
   "cell_type": "markdown",
   "metadata": {},
   "source": [
    "Write a Python program that computes the greatest common divisor (GCD) of two positive integers."
   ]
  },
  {
   "cell_type": "code",
   "execution_count": null,
   "metadata": {},
   "outputs": [],
   "source": [
    "x = int(input(\"Your first positive integer: \"))\n",
    "y = int(input(\"Your second positive integer: \"))\n",
    "\n",
    "def gcd(x, y):\n",
    "\n",
    "    gcd = 1\n",
    "\n",
    "    if x % y == 0: #check if y is divisble by x\n",
    "        return y\n",
    "    \n",
    "    for i in range (int(y / 2), 0, -1):\n",
    "        if x % i == 0 and y % i == 0: #check if both x & y is divisble by i\n",
    "            gcd = i\n",
    "            break\n",
    "    \n",
    "    return gcd\n",
    "\n",
    "print(gcd(x, y))"
   ]
  }
 ],
 "metadata": {
  "kernelspec": {
   "display_name": "Python 3",
   "language": "python",
   "name": "python3"
  },
  "language_info": {
   "codemirror_mode": {
    "name": "ipython",
    "version": 3
   },
   "file_extension": ".py",
   "mimetype": "text/x-python",
   "name": "python",
   "nbconvert_exporter": "python",
   "pygments_lexer": "ipython3",
   "version": "3.9.6"
  }
 },
 "nbformat": 4,
 "nbformat_minor": 2
}
