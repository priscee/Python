{
 "cells": [
  {
   "cell_type": "markdown",
   "metadata": {},
   "source": [
    "Write a Python program to find the least common multiple (LCM) of two positive integers."
   ]
  },
  {
   "cell_type": "code",
   "execution_count": null,
   "metadata": {},
   "outputs": [],
   "source": [
    "x = int(input(\"Your first positive integer: \"))\n",
    "y = int(input(\"Your second positive integer: \"))\n",
    "\n",
    "def lcm(x, y):\n",
    "\n",
    "    if x > y: #comapre x & y and determine which is the larger number to store in z\n",
    "        z = x\n",
    "    else:\n",
    "        z = y\n",
    "    \n",
    "    while True:\n",
    "        if (z % x == 0) and (z % y == 0): #check if z is divisible by both x & y\n",
    "            lcm = z\n",
    "            break\n",
    "    \n",
    "        z += 1 #conditions did not met, increment z and continue checking\n",
    "    \n",
    "    return lcm\n",
    "\n",
    "print(lcm(x, y))"
   ]
  }
 ],
 "metadata": {
  "kernelspec": {
   "display_name": "Python 3",
   "language": "python",
   "name": "python3"
  },
  "language_info": {
   "codemirror_mode": {
    "name": "ipython",
    "version": 3
   },
   "file_extension": ".py",
   "mimetype": "text/x-python",
   "name": "python",
   "nbconvert_exporter": "python",
   "pygments_lexer": "ipython3",
   "version": "3.9.6"
  }
 },
 "nbformat": 4,
 "nbformat_minor": 2
}
