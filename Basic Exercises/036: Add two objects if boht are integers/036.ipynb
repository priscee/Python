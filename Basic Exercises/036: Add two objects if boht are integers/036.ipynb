{
 "cells": [
  {
   "cell_type": "markdown",
   "metadata": {},
   "source": [
    "Write a  Python program to add two objects if both objects are integers."
   ]
  },
  {
   "cell_type": "code",
   "execution_count": null,
   "metadata": {},
   "outputs": [],
   "source": [
    "def add_numbers(a, b):\n",
    "    if not (isinstance(a, int)) and (isinstance(b, int)):\n",
    "    # The isinstance() function returns True if the specified object is of the specified type, otherwise False.\n",
    "        return \"Both inputs must be integer!\"\n",
    "    else:\n",
    "        return a + b\n",
    "\n",
    "print(add_numbers(1, 1))\n",
    "print(add_numbers('1', 1))"
   ]
  }
 ],
 "metadata": {
  "kernelspec": {
   "display_name": "Python 3",
   "language": "python",
   "name": "python3"
  },
  "language_info": {
   "codemirror_mode": {
    "name": "ipython",
    "version": 3
   },
   "file_extension": ".py",
   "mimetype": "text/x-python",
   "name": "python",
   "nbconvert_exporter": "python",
   "pygments_lexer": "ipython3",
   "version": "3.9.6"
  }
 },
 "nbformat": 4,
 "nbformat_minor": 2
}
