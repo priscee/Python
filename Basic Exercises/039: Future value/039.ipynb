{
 "cells": [
  {
   "cell_type": "markdown",
   "metadata": {},
   "source": [
    "Write a  Python program to compute the future value of a specified principal amount, rate of interest, and number of years.\n",
    "Test Data : amt = 10000, int = 3.5, years = 7\n",
    "Expected Output : 12722.79"
   ]
  },
  {
   "cell_type": "code",
   "execution_count": null,
   "metadata": {},
   "outputs": [],
   "source": [
    "print(\"We will be calculating the future value \")\n",
    "\n",
    "amt = float(input(\"Principal amount: \"))\n",
    "int = float(input(\"Rate of interest: \"))\n",
    "years = float(input(\"Number of years: \"))\n",
    "\n",
    "simple_interest = round(amt * ((1 + (0.01 * int)) ** years), 2)\n",
    "print(\"Simple Interest: $\", simple_interest)\n",
    "\n",
    "compounded_interest = round(int * ((1 + int) * years), 2)\n",
    "print(\"Compounded Interest: $\", compounded_interest)\n"
   ]
  }
 ],
 "metadata": {
  "kernelspec": {
   "display_name": "Python 3",
   "language": "python",
   "name": "python3"
  },
  "language_info": {
   "codemirror_mode": {
    "name": "ipython",
    "version": 3
   },
   "file_extension": ".py",
   "mimetype": "text/x-python",
   "name": "python",
   "nbconvert_exporter": "python",
   "pygments_lexer": "ipython3",
   "version": "3.9.6"
  }
 },
 "nbformat": 4,
 "nbformat_minor": 2
}
