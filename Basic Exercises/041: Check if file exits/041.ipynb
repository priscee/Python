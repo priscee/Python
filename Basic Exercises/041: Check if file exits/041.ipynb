{
 "cells": [
  {
   "cell_type": "markdown",
   "metadata": {},
   "source": [
    "Write a Python program to check whether a file exists."
   ]
  },
  {
   "cell_type": "code",
   "execution_count": null,
   "metadata": {},
   "outputs": [],
   "source": [
    "import os.path\n",
    "#o.s path provides a set of functions that can be used to manipulate file and directory paths in a way that is independent of the underlying operating system.\n",
    "\n",
    "print(os.path.isfile('main.txt'))\n",
    "# os.path.isfile(path) - Return True if path is an existing regular file.\n",
    "\n",
    "# https://www.tutorialspoint.com/python/os_path_methods.htm"
   ]
  }
 ],
 "metadata": {
  "kernelspec": {
   "display_name": "Python 3",
   "language": "python",
   "name": "python3"
  },
  "language_info": {
   "codemirror_mode": {
    "name": "ipython",
    "version": 3
   },
   "file_extension": ".py",
   "mimetype": "text/x-python",
   "name": "python",
   "nbconvert_exporter": "python",
   "pygments_lexer": "ipython3",
   "version": "3.9.6"
  }
 },
 "nbformat": 4,
 "nbformat_minor": 2
}
