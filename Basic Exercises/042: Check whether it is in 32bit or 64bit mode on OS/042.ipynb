{
 "cells": [
  {
   "cell_type": "markdown",
   "metadata": {},
   "source": [
    "Write a Python program to determine if a Python shell is executing in 32bit or 64bit mode on OS."
   ]
  },
  {
   "cell_type": "code",
   "execution_count": null,
   "metadata": {},
   "outputs": [],
   "source": [
    "import struct\n",
    "# struct module performs conversions between Python values and C structs represented as Python bytes objects\n",
    "\n",
    "print(struct.calcsize(\"P\") * 8)\n",
    "# Use the 'calcsize' function to determine the size (in bytes) of the C int type for the current platform.\n",
    "# The format string \"P\" is used to represent the C void pointer type, and multiplying it by 8 gives the size in bits.\n",
    "\n",
    "# https://docs.python.org/3/library/struct.html"
   ]
  }
 ],
 "metadata": {
  "kernelspec": {
   "display_name": "Python 3",
   "language": "python",
   "name": "python3"
  },
  "language_info": {
   "codemirror_mode": {
    "name": "ipython",
    "version": 3
   },
   "file_extension": ".py",
   "mimetype": "text/x-python",
   "name": "python",
   "nbconvert_exporter": "python",
   "pygments_lexer": "ipython3",
   "version": "3.9.6"
  }
 },
 "nbformat": 4,
 "nbformat_minor": 2
}
