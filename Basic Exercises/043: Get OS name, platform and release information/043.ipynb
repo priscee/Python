{
 "cells": [
  {
   "cell_type": "markdown",
   "metadata": {},
   "source": [
    "Write a Python program to get OS name, platform and release information."
   ]
  },
  {
   "cell_type": "code",
   "execution_count": null,
   "metadata": {},
   "outputs": [],
   "source": [
    "import platform\n",
    "# https://docs.python.org/3/library/platform.html\n",
    "\n",
    "import os\n",
    "# https://www.w3schools.com/python/module_os.asp\n",
    "\n",
    "print(\"Name of OS: \", os.name)\n",
    "\n",
    "print(\"Name of OS system: \", platform.system())\n",
    "\n",
    "print(\"Version of OS: \", platform.release())"
   ]
  }
 ],
 "metadata": {
  "kernelspec": {
   "display_name": "Python 3",
   "language": "python",
   "name": "python3"
  },
  "language_info": {
   "codemirror_mode": {
    "name": "ipython",
    "version": 3
   },
   "file_extension": ".py",
   "mimetype": "text/x-python",
   "name": "python",
   "nbconvert_exporter": "python",
   "pygments_lexer": "ipython3",
   "version": "3.9.6"
  }
 },
 "nbformat": 4,
 "nbformat_minor": 2
}
