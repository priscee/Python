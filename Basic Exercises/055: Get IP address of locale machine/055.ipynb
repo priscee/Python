{
 "cells": [
  {
   "cell_type": "markdown",
   "metadata": {},
   "source": [
    "Write a Python program to find local IP addresses using Python's stdlib."
   ]
  },
  {
   "cell_type": "code",
   "execution_count": null,
   "metadata": {},
   "outputs": [],
   "source": [
    "import socket\n",
    "# Socket programming is a way of connecting two nodes on a network to communicate with each other. One socket(node) listens on a particular port at an IP, while the other socket reaches out to the other to form a connection. The server forms the listener socket while the client reaches out to the server. \n",
    "\n",
    "local_hostname = socket.gethostname()\n",
    "# Return a string containing the hostname of the machine where the Python interpreter is currently executing.\n",
    "\n",
    "ip_addresses = socket.gethostbyname_ex(local_hostname)[2]\n",
    "# Translate a host name to IPv4 address format, extended interface.\n",
    "\n",
    "filtered_ips = [ip for ip in ip_addresses if not ip.startswith(\"127.\")]\n",
    "#filteres out IP addresses that start with 127. (reserved for loopback testing)\n",
    "\n",
    "first_ip = filtered_ips[:1]\n",
    "\n",
    "print(first_ip[0])"
   ]
  }
 ],
 "metadata": {
  "kernelspec": {
   "display_name": "Python 3",
   "language": "python",
   "name": "python3"
  },
  "language_info": {
   "codemirror_mode": {
    "name": "ipython",
    "version": 3
   },
   "file_extension": ".py",
   "mimetype": "text/x-python",
   "name": "python",
   "nbconvert_exporter": "python",
   "pygments_lexer": "ipython3",
   "version": "3.9.6"
  }
 },
 "nbformat": 4,
 "nbformat_minor": 2
}
