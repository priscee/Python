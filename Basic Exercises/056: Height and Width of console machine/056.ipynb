{
 "cells": [
  {
   "cell_type": "markdown",
   "metadata": {},
   "source": [
    "Write a Python program to get the height and width of the console window."
   ]
  },
  {
   "cell_type": "code",
   "execution_count": 15,
   "metadata": {},
   "outputs": [
    {
     "name": "stdout",
     "output_type": "stream",
     "text": [
      "Number of columns and Rows:  (80, 24)\n"
     ]
    }
   ],
   "source": [
    "import fcntl\n",
    "# fcntl module performs file control and I/O control on file descriptors\n",
    "\n",
    "import termios\n",
    "# termios module provides an interface to the POSIX calls for tty I/O control. \n",
    "\n",
    "import struct\n",
    "# struct module converts between Python values and C structs represented as Python bytes objects.\n",
    "\n",
    "import os\n",
    "import shutil\n",
    "import sys\n",
    "\n",
    "def terminal_size():\n",
    "    if sys.stdin.isatty():\n",
    "        try:\n",
    "            th, tw, hp, wp = struct.unpack('HHHH', fcntl.ioctl(0, termios.TIOCGWINSZ, struct.pack('HHHH', 0, 0, 0, 0)))\n",
    "            return tw, th\n",
    "        except Exception as e:\n",
    "            print(f\"An error occurred: {e}\")\n",
    "\n",
    "    # Fallback to shutil.get_terminal_size() if ioctl fails or stdin is not a tty\n",
    "    size = shutil.get_terminal_size()\n",
    "    return size.columns, size.lines\n",
    "\n",
    "print('Number of columns and Rows: ', terminal_size())\n"
   ]
  }
 ],
 "metadata": {
  "kernelspec": {
   "display_name": "Python 3",
   "language": "python",
   "name": "python3"
  },
  "language_info": {
   "codemirror_mode": {
    "name": "ipython",
    "version": 3
   },
   "file_extension": ".py",
   "mimetype": "text/x-python",
   "name": "python",
   "nbconvert_exporter": "python",
   "pygments_lexer": "ipython3",
   "version": "3.9.6"
  }
 },
 "nbformat": 4,
 "nbformat_minor": 2
}
