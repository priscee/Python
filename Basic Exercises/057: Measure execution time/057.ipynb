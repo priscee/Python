{
 "cells": [
  {
   "cell_type": "markdown",
   "metadata": {},
   "source": [
    "Write a Python program to get the execution time of a Python method."
   ]
  },
  {
   "cell_type": "code",
   "execution_count": null,
   "metadata": {},
   "outputs": [],
   "source": [
    "import time\n",
    "\n",
    "def sum_of_n_numbers(n):\n",
    "    start_time = time.time()\n",
    "    # Record the current time before the calculation.\n",
    "\n",
    "    s = 0\n",
    "\n",
    "    for i in range(1, n + 1):\n",
    "        s = s + i\n",
    "    # Loop through numbers from 1 to 'n' and accumulate the sum.\n",
    "\n",
    "    end_time = time.time()\n",
    "    # Record the current time after the calculation.\n",
    "\n",
    "    return s, end_time - start_time\n",
    "\n",
    "n = 8\n",
    "\n",
    "print(\"\\nTime to sum of 1 to\", n, \"and required time to calculate is:\", sum_of_n_numbers(n))"
   ]
  }
 ],
 "metadata": {
  "kernelspec": {
   "display_name": "Python 3",
   "language": "python",
   "name": "python3"
  },
  "language_info": {
   "codemirror_mode": {
    "name": "ipython",
    "version": 3
   },
   "file_extension": ".py",
   "mimetype": "text/x-python",
   "name": "python",
   "nbconvert_exporter": "python",
   "pygments_lexer": "ipython3",
   "version": "3.9.6"
  }
 },
 "nbformat": 4,
 "nbformat_minor": 2
}
