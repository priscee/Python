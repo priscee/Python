{
 "cells": [
  {
   "cell_type": "markdown",
   "metadata": {},
   "source": [
    "Write a Python program to sum the first n positive integers."
   ]
  },
  {
   "cell_type": "code",
   "execution_count": 2,
   "metadata": {},
   "outputs": [
    {
     "name": "stdout",
     "output_type": "stream",
     "text": [
      "Sum of the first 4 positive integers: 10.0\n",
      "Sum of the first 4 positive integers: 10\n"
     ]
    }
   ],
   "source": [
    "num = int(input(\"Your number: \"))\n",
    "\n",
    "sum_num_1 = (num * (num + 1)) / 2\n",
    "print(\"Sum of the first\", num, \"positive integers:\", sum_num_1)\n",
    "\n",
    "sum_num_2 = sum(range(num + 1))\n",
    "print(\"Sum of the first\", num, \"positive integers:\", sum_num_2)\n"
   ]
  }
 ],
 "metadata": {
  "kernelspec": {
   "display_name": "Python 3",
   "language": "python",
   "name": "python3"
  },
  "language_info": {
   "codemirror_mode": {
    "name": "ipython",
    "version": 3
   },
   "file_extension": ".py",
   "mimetype": "text/x-python",
   "name": "python",
   "nbconvert_exporter": "python",
   "pygments_lexer": "ipython3",
   "version": "3.9.6"
  }
 },
 "nbformat": 4,
 "nbformat_minor": 2
}
