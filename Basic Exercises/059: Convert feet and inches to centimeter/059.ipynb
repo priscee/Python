{
 "cells": [
  {
   "cell_type": "markdown",
   "metadata": {},
   "source": [
    "Write a Python program to convert height (in feet and inches) to centimeters."
   ]
  },
  {
   "cell_type": "code",
   "execution_count": null,
   "metadata": {},
   "outputs": [],
   "source": [
    "print(\"Converting Feet and Inches to Centimeters\")\n",
    "\n",
    "feet = int(input(\"Feet: \"))\n",
    "print(\"Feet: \", feet)\n",
    "\n",
    "inch = int(input(\"Inches: \"))\n",
    "print(\"Inches: \", inch)\n",
    "\n",
    "total_inch = inch + (feet * 12)\n",
    "\n",
    "cm = round(total_inch * 2.54, 2)\n",
    "\n",
    "print(\"Centimeters: \", cm, \"cm\")"
   ]
  }
 ],
 "metadata": {
  "kernelspec": {
   "display_name": "Python 3",
   "language": "python",
   "name": "python3"
  },
  "language_info": {
   "codemirror_mode": {
    "name": "ipython",
    "version": 3
   },
   "file_extension": ".py",
   "mimetype": "text/x-python",
   "name": "python",
   "nbconvert_exporter": "python",
   "pygments_lexer": "ipython3",
   "version": "3.9.6"
  }
 },
 "nbformat": 4,
 "nbformat_minor": 2
}
