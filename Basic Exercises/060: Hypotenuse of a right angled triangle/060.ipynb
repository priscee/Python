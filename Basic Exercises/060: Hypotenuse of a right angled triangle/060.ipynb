{
 "cells": [
  {
   "cell_type": "markdown",
   "metadata": {},
   "source": [
    "Write a Python program to calculate the hypotenuse of a right angled triangle."
   ]
  },
  {
   "cell_type": "code",
   "execution_count": 4,
   "metadata": {},
   "outputs": [
    {
     "name": "stdout",
     "output_type": "stream",
     "text": [
      "Calculate hypotenuse of right angled trianlge\n",
      "Side a:  2.0\n",
      "Side b:  4.0\n",
      "Answer:  4.472\n",
      "Answer:  4.472\n"
     ]
    }
   ],
   "source": [
    "import math\n",
    "\n",
    "print(\"Calculate hypotenuse of right angled trianlge\")\n",
    "\n",
    "a = float(input(\"Side a: \"))\n",
    "print(\"Side a: \", a)\n",
    "\n",
    "b = float(input(\"Side b: \"))\n",
    "print(\"Side b: \", b)\n",
    "\n",
    "c1 = round(math.sqrt(a ** 2 + b ** 2), 3)\n",
    "print(\"Answer: \", c1)\n",
    "\n",
    "#manual\n",
    "c2 = round((a ** 2 + b ** 2) ** 0.5, 3)\n",
    "print(\"Answer: \", c2)\n"
   ]
  }
 ],
 "metadata": {
  "kernelspec": {
   "display_name": "Python 3",
   "language": "python",
   "name": "python3"
  },
  "language_info": {
   "codemirror_mode": {
    "name": "ipython",
    "version": 3
   },
   "file_extension": ".py",
   "mimetype": "text/x-python",
   "name": "python",
   "nbconvert_exporter": "python",
   "pygments_lexer": "ipython3",
   "version": "3.9.6"
  }
 },
 "nbformat": 4,
 "nbformat_minor": 2
}
