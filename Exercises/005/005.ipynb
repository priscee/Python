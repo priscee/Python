{
 "cells": [
  {
   "cell_type": "markdown",
   "metadata": {},
   "source": [
    "Write a Python program that accepts the user's first and last name and prints them in reverse order with a space between them."
   ]
  },
  {
   "cell_type": "code",
   "execution_count": null,
   "metadata": {},
   "outputs": [],
   "source": [
    "first_name = input(\"First Name: \")\n",
    "\n",
    "last_name = input(\"Last Name: \")\n",
    "\n",
    "full_name = first_name + \" \" + last_name\n",
    "\n",
    "reverse_name = last_name + \" \" + first_name\n",
    "\n",
    "reverse_order = full_name[::-1]\n",
    "\n",
    "print(full_name)\n",
    "print(reverse_name)\n",
    "print(reverse_order)"
   ]
  }
 ],
 "metadata": {
  "kernelspec": {
   "display_name": "Python 3",
   "language": "python",
   "name": "python3"
  },
  "language_info": {
   "codemirror_mode": {
    "name": "ipython",
    "version": 3
   },
   "file_extension": ".py",
   "mimetype": "text/x-python",
   "name": "python",
   "nbconvert_exporter": "python",
   "pygments_lexer": "ipython3",
   "version": "3.9.6"
  }
 },
 "nbformat": 4,
 "nbformat_minor": 2
}
